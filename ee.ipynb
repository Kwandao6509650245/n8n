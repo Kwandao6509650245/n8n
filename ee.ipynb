{
 "cells": [
  {
   "cell_type": "code",
   "execution_count": 4,
   "id": "5a8628dd",
   "metadata": {},
   "outputs": [
    {
     "name": "stdout",
     "output_type": "stream",
     "text": [
      "Connecting to PGVector store and adding documents...\n"
     ]
    },
    {
     "name": "stderr",
     "output_type": "stream",
     "text": [
      "c:\\Users\\stamp7ven\\AppData\\Local\\Programs\\Python\\Python312\\Lib\\site-packages\\langchain_community\\vectorstores\\pgvector.py:490: LangChainPendingDeprecationWarning: Please use JSONB instead of JSON for metadata. This change will allow for more efficient querying that involves filtering based on metadata. Please note that filtering operators have been changed when using JSONB metadata to be prefixed with a $ sign to avoid name collisions with columns. If you're using an existing database, you will need to create a db migration for your metadata column to be JSONB and update your queries to use the new operators. \n",
      "  store = cls(\n"
     ]
    },
    {
     "name": "stdout",
     "output_type": "stream",
     "text": [
      "Documents added to PostgreSQL in collection 'my_ollama_documents_collection'.\n",
      "\n",
      "--- Retrieved Document for query: 'อยากเปลี่ยน อีเมล' ---\n",
      "Content: คุณครูสามารถแก้ไขได้ด้วยตนเองค่ะ ทำตามขั้นตอนดังนี้\n",
      "1 ล็อกอินเข้าระบบ แล้วมาที่เมนู บัญชี ดังรูป จากนั้นระบบจะแสดงหน้าข้อมูลส่วนตัวค่ะ\n",
      "2 ทำการแก้ไขข้อมูลอีเมลให้ตรงกับระบบ ENDB จากนั้นกดบันทึก ปุ่มด้านล่างค่ะ และกดปิดหน้าข้อมูลส่วนตัว\n",
      "3 เมื่อแก้ไขอีเมลเรียบร้อยแล้ว คุณครูสามารถเข้าระบบ ENDB ด้วยอีเมลเดิมได้เลยค่ะ\n",
      "สอบถามเพิ่มเติมได้ที่ teacherpd@ipst.ac.th พร้อมแจ้งหมายเลขอ้างอิง 52006 เพื่อใช้อ้างอิงและติดตามงานค่ะ\n",
      "\n",
      "Process completed.\n"
     ]
    }
   ],
   "source": [
    "import ollama\n",
    "from langchain_ollama import OllamaLLM\n",
    "from langchain_community.vectorstores import PGVector\n",
    "from langchain_ollama import OllamaEmbeddings\n",
    "from langchain_core.documents import Document\n",
    "import pandas as pd\n",
    "\n",
    "# --- 1. กำหนดค่า Ollama ---\n",
    "model = OllamaLLM(model=\"llama3.2\", base_url=\"http://localhost:11434\")\n",
    "embeddings = OllamaEmbeddings(model=\"mxbai-embed-large\", base_url=\"http://localhost:11434\")\n",
    "\n",
    "# --- 2. กำหนดค่าการเชื่อมต่อ PostgreSQL ---\n",
    "DB_USER = \"myuser\"\n",
    "DB_PASSWORD = \"mypassword\"\n",
    "DB_HOST = \"localhost\"\n",
    "DB_PORT = \"5432\"\n",
    "DB_NAME = \"mydatabase\"\n",
    "CONNECTION_STRING = f\"postgresql+psycopg2://{DB_USER}:{DB_PASSWORD}@{DB_HOST}:{DB_PORT}/{DB_NAME}\"\n",
    "COLLECTION_NAME = \"my_ollama_documents_collection\"\n",
    "\n",
    "# --- 3. ดึงข้อมูลจากไฟล์ CSV และเตรียม LangChain Documents ---\n",
    "csv_file_path = \"my_doc.csv\" # ระบุพาธของไฟล์ CSV ของคุณ\n",
    "\n",
    "try:\n",
    "    df = pd.read_csv(csv_file_path, encoding='utf-8')\n",
    "except FileNotFoundError:\n",
    "    print(f\"Error: File not found at {csv_file_path}\")\n",
    "    exit()\n",
    "\n",
    "docs = []\n",
    "# กำหนดชื่อคอลัมน์ที่เป็นเนื้อหาหลัก\n",
    "content_column = 'คำตอบ' # ตรวจสอบชื่อคอลัมน์นี้ให้ตรงกับไฟล์ CSV ของคุณเป๊ะๆ\n",
    "\n",
    "for index, row in df.iterrows():\n",
    "    # ตรวจสอบว่าคอลัมน์เนื้อหาหลักไม่ว่าง\n",
    "    if pd.isna(row[content_column]):\n",
    "        continue # ข้ามแถวที่ไม่มีเนื้อหาหลัก\n",
    "\n",
    "    page_content = str(row[content_column])\n",
    "\n",
    "    # สร้าง metadata จากคอลัมน์อื่นๆ ทั้งหมด ยกเว้นคอลัมน์เนื้อหาหลัก\n",
    "    metadata = row.drop(content_column).to_dict()\n",
    "\n",
    "    docs.append(Document(page_content=page_content, metadata=metadata))\n",
    "\n",
    "# print(f\"Loaded {len(docs)} documents from CSV.\") # คุณสามารถเปิดบรรทัดนี้เพื่อดูจำนวนเอกสารที่โหลดได้\n",
    "\n",
    "# --- 4. สร้าง Vector Store และบันทึกข้อมูลลง PostgreSQL ---\n",
    "print(\"Connecting to PGVector store and adding documents...\")\n",
    "# 'pre_delete_collection=True' จะลบ collection เก่าก่อนเพิ่มใหม่เสมอ\n",
    "vectorstore = PGVector.from_documents(\n",
    "    documents=docs,\n",
    "    embedding=embeddings,\n",
    "    collection_name=COLLECTION_NAME,\n",
    "    connection_string=CONNECTION_STRING,\n",
    "    pre_delete_collection=True # ตั้งค่าเป็น True ถ้าต้องการลบข้อมูลเก่าใน collection ก่อนเพิ่มใหม่\n",
    ")\n",
    "print(f\"Documents added to PostgreSQL in collection '{COLLECTION_NAME}'.\")\n",
    "\n",
    "# --- 5. ใช้ Vector Store เป็น Retriever และค้นหา ---\n",
    "retriever = vectorstore.as_retriever()\n",
    "\n",
    "# ทำการค้นหาข้อความที่คล้ายคลึงที่สุด\n",
    "query_text = \"อยากเปลี่ยน อีเมล\"\n",
    "retrieved_documents = retriever.invoke(query_text)\n",
    "\n",
    "print(f\"\\n--- Retrieved Document for query: '{query_text}' ---\")\n",
    "# แสดงเนื้อหาของเอกสารที่ถูกดึงมา (เฉพาะอันแรก)\n",
    "if retrieved_documents:\n",
    "    # แสดงเฉพาะ content ของเอกสารตัวแรกที่ถูกดึงมา\n",
    "    print(f\"Content: {retrieved_documents[0].page_content}\")\n",
    "    # ถ้าคุณอยากได้ metadata ของเอกสารนั้นด้วย ก็สามารถเพิ่มได้แบบนี้:\n",
    "    # print(f\"Metadata: {retrieved_documents[0].metadata}\")\n",
    "else:\n",
    "    print(\"No documents found for the query.\")\n",
    "\n",
    "print(\"\\nProcess completed.\")"
   ]
  }
 ],
 "metadata": {
  "kernelspec": {
   "display_name": "Python 3",
   "language": "python",
   "name": "python3"
  },
  "language_info": {
   "codemirror_mode": {
    "name": "ipython",
    "version": 3
   },
   "file_extension": ".py",
   "mimetype": "text/x-python",
   "name": "python",
   "nbconvert_exporter": "python",
   "pygments_lexer": "ipython3",
   "version": "3.12.0"
  }
 },
 "nbformat": 4,
 "nbformat_minor": 5
}
